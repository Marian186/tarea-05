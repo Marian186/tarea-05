{
 "cells": [
  {
   "cell_type": "code",
   "execution_count": 3,
   "metadata": {},
   "outputs": [
    {
     "data": {
      "text/plain": [
       "(150, 5)"
      ]
     },
     "execution_count": 3,
     "metadata": {},
     "output_type": "execute_result"
    }
   ],
   "source": [
    "import pandas as Pd\n",
    "\n",
    "Archivo='https://raw.githubusercontent.com/plotly/datasets/master/iris-data.csv'\n",
    "iris=Pd.read_csv(Archivo)\n",
    "iris.shape"
   ]
  },
  {
   "cell_type": "markdown",
   "metadata": {},
   "source": [
    "### ¿Que columnas tiene el dataset y que representan?"
   ]
  },
  {
   "cell_type": "code",
   "execution_count": 6,
   "metadata": {},
   "outputs": [
    {
     "name": "stdout",
     "output_type": "stream",
     "text": [
      "El dataset cuenta con las siguientes columnas: Index(['sepal length', 'sepal width', 'petal length', 'petal width', 'class'], dtype='object')\n"
     ]
    }
   ],
   "source": [
    "print(f'El dataset cuenta con las siguientes columnas:',iris.columns)"
   ]
  },
  {
   "cell_type": "markdown",
   "metadata": {},
   "source": [
    "Las columnas del dataset Iris son las siguientes:\n",
    "\n",
    "- **Sepal Length**: Longitud del sépalo.\n",
    "- **Sepal Width**: Ancho del sépalo.\n",
    "- **Petal Length**: Longitud del pétalo.\n",
    "- **Petal Width**: Ancho del pétalo.\n",
    "- **Class**: Especie de la flor de iris. Este es un atributo categórico que puede tomar tres valores:\n",
    "  - Iris setosa\n",
    "  - Iris versicolor\n",
    "  - Iris virginica"
   ]
  }
 ],
 "metadata": {
  "kernelspec": {
   "display_name": "Python 3",
   "language": "python",
   "name": "python3"
  },
  "language_info": {
   "codemirror_mode": {
    "name": "ipython",
    "version": 3
   },
   "file_extension": ".py",
   "mimetype": "text/x-python",
   "name": "python",
   "nbconvert_exporter": "python",
   "pygments_lexer": "ipython3",
   "version": "3.11.3"
  }
 },
 "nbformat": 4,
 "nbformat_minor": 2
}
